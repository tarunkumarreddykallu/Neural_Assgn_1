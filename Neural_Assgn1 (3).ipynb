{
  "nbformat": 4,
  "nbformat_minor": 0,
  "metadata": {
    "colab": {
      "provenance": []
    },
    "kernelspec": {
      "name": "python3",
      "display_name": "Python 3"
    },
    "language_info": {
      "name": "python"
    }
  },
  "cells": [
    {
      "cell_type": "code",
      "execution_count": 1,
      "metadata": {
        "colab": {
          "base_uri": "https://localhost:8080/"
        },
        "id": "cHJvVc1Lrh_f",
        "outputId": "46469be1-472e-4e3c-e505-819df2dad3d1"
      },
      "outputs": [
        {
          "output_type": "stream",
          "name": "stdout",
          "text": [
            "Enter the string: python\n",
            "Resulting String: nohp\n"
          ]
        }
      ],
      "source": [
        "# Input the string as a list of characters\n",
        "import random;\n",
        "input_string = list(input(\"Enter the string: \"))\n",
        "\n",
        "# Delete at least 2 characters\n",
        "if len(input_string) >= 2:\n",
        "    rand1=random.randint(0,len(input_string)-1)\n",
        "    input_string.pop(rand1)\n",
        "    rand2=random.randint(0,len(input_string)-1)\n",
        "    input_string.pop(rand2)\n",
        "\n",
        "# Reverse the resulting string\n",
        "result_string = input_string[::-1]\n",
        "\n",
        "# Print the reversed string\n",
        "print(\"Resulting String:\", \"\".join(result_string))\n"
      ]
    }
  ]
}