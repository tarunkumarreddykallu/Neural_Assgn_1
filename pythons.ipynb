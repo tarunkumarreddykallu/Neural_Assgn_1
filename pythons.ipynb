{
  "nbformat": 4,
  "nbformat_minor": 0,
  "metadata": {
    "colab": {
      "provenance": []
    },
    "kernelspec": {
      "name": "python3",
      "display_name": "Python 3"
    },
    "language_info": {
      "name": "python"
    }
  },
  "cells": [
    {
      "cell_type": "code",
      "execution_count": 1,
      "metadata": {
        "colab": {
          "base_uri": "https://localhost:8080/"
        },
        "id": "4jmUryBxIJJc",
        "outputId": "1b9af400-4124-4bfc-b864-0aaec4ef9563"
      },
      "outputs": [
        {
          "output_type": "stream",
          "name": "stdout",
          "text": [
            "Enter a sentence: I love python programming.\n",
            "Replaced Sentence: I love pythons programming.\n"
          ]
        }
      ],
      "source": [
        "# Input a sentence\n",
        "input_sentence = input(\"Enter a sentence: \")\n",
        "\n",
        "# Replace 'python' with 'pythons'\n",
        "replaced_sentence = input_sentence.replace('python', 'pythons')\n",
        "\n",
        "# Print the replaced sentence\n",
        "print(\"Replaced Sentence:\", replaced_sentence)"
      ]
    }
  ]
}