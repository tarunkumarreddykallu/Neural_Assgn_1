{
  "nbformat": 4,
  "nbformat_minor": 0,
  "metadata": {
    "colab": {
      "provenance": []
    },
    "kernelspec": {
      "name": "python3",
      "display_name": "Python 3"
    },
    "language_info": {
      "name": "python"
    }
  },
  "cells": [
    {
      "cell_type": "code",
      "execution_count": 1,
      "metadata": {
        "colab": {
          "base_uri": "https://localhost:8080/"
        },
        "id": "cHcH-x2NIjzd",
        "outputId": "1899d016-a6b4-4f17-9b4e-e4889db58a67"
      },
      "outputs": [
        {
          "output_type": "stream",
          "name": "stdout",
          "text": [
            "Enter the class score: 95\n",
            "Grade: A\n"
          ]
        }
      ],
      "source": [
        "# Input the class score from the user\n",
        "class_score = float(input(\"Enter the class score: \"))\n",
        "\n",
        "# Determining the grade based on the grading scheme used in the class\n",
        "if class_score >= 90 and  class_score<=100:\n",
        "    grade = 'A'\n",
        "elif class_score >= 80 and class_score<90 :\n",
        "    grade = 'B'\n",
        "elif class_score >= 70 and class_score<80:\n",
        "    grade = 'C'\n",
        "elif class_score >= 60 and class_score<70:\n",
        "    grade = 'D'\n",
        "elif class_score <60:\n",
        "    grade = 'F'\n",
        "else:\n",
        "    grade = 'Wrong Score'\n",
        "\n",
        "# Print the grade\n",
        "print(\"Grade:\", grade)"
      ]
    }
  ]
}