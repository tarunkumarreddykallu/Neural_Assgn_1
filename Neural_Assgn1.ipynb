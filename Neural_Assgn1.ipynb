{
  "nbformat": 4,
  "nbformat_minor": 0,
  "metadata": {
    "colab": {
      "provenance": []
    },
    "kernelspec": {
      "name": "python3",
      "display_name": "Python 3"
    },
    "language_info": {
      "name": "python"
    }
  },
  "cells": [
    {
      "cell_type": "code",
      "execution_count": 1,
      "metadata": {
        "colab": {
          "base_uri": "https://localhost:8080/"
        },
        "id": "cHJvVc1Lrh_f",
        "outputId": "46469be1-472e-4e3c-e505-819df2dad3d1"
      },
      "outputs": [
        {
          "output_type": "stream",
          "name": "stdout",
          "text": [
            "Enter the string: python\n",
            "Resulting String: nohp\n"
          ]
        }
      ],
      "source": [
        "# Input the string as a list of characters\n",
        "import random;\n",
        "input_string = list(input(\"Enter the string: \"))\n",
        "\n",
        "# Delete at least 2 characters\n",
        "if len(input_string) >= 2:\n",
        "    rand1=random.randint(0,len(input_string)-1)\n",
        "    input_string.pop(rand1)\n",
        "    rand2=random.randint(0,len(input_string)-1)\n",
        "    input_string.pop(rand2)\n",
        "\n",
        "# Reverse the resulting string\n",
        "result_string = input_string[::-1]\n",
        "\n",
        "# Print the reversed string\n",
        "print(\"Resulting String:\", \"\".join(result_string))\n"
      ]
    },
    {
      "cell_type": "code",
      "source": [
        "# # Take two numbers from the user\n",
        "num1 = float(input(\"Enter the first number: \"))\n",
        "num2 = float(input(\"Enter the second number: \"))\n",
        "\n",
        "# Perform arithmetic operations\n",
        "sum_result = num1 + num2\n",
        "difference_result = num1 - num2\n",
        "product_result = num1 * num2\n",
        "division_result = num1 / num2\n",
        "\n",
        "\n",
        "# Print the results of arithmetic operations\n",
        "print(\"Sum:\", sum_result)\n",
        "print(\"Difference:\", difference_result)\n",
        "print(\"Product:\", product_result)\n",
        "print(\"Division:\", division_result)\n"
      ],
      "metadata": {
        "colab": {
          "base_uri": "https://localhost:8080/"
        },
        "id": "1c2iJ0FDsNGp",
        "outputId": "2db1ba33-67eb-4c8d-8b73-2985f51c8a97"
      },
      "execution_count": 2,
      "outputs": [
        {
          "output_type": "stream",
          "name": "stdout",
          "text": [
            "Enter the first number: 5\n",
            "Enter the second number: 15\n",
            "Sum: 20.0\n",
            "Difference: -10.0\n",
            "Product: 75.0\n",
            "Division: 0.3333333333333333\n"
          ]
        }
      ]
    },
    {
      "cell_type": "code",
      "source": [
        "# Input a sentence\n",
        "input_sentence = input(\"Enter a sentence: \")\n",
        "\n",
        "# Replace 'python' with 'pythons'\n",
        "replaced_sentence = input_sentence.replace('python', 'pythons')\n",
        "\n",
        "# Print the replaced sentence\n",
        "print(\"Replaced Sentence:\", replaced_sentence)"
      ],
      "metadata": {
        "colab": {
          "base_uri": "https://localhost:8080/"
        },
        "id": "XmZ4PNQztrN4",
        "outputId": "0c02f051-3410-455d-a624-46d7c31a9c9a"
      },
      "execution_count": 3,
      "outputs": [
        {
          "output_type": "stream",
          "name": "stdout",
          "text": [
            "Enter a sentence: I love python programming.\n",
            "Replaced Sentence: I love pythons programming.\n"
          ]
        }
      ]
    }
  ]
}