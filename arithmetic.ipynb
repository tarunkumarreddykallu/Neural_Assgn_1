{
  "nbformat": 4,
  "nbformat_minor": 0,
  "metadata": {
    "colab": {
      "provenance": []
    },
    "kernelspec": {
      "name": "python3",
      "display_name": "Python 3"
    },
    "language_info": {
      "name": "python"
    }
  },
  "cells": [
    {
      "cell_type": "code",
      "execution_count": 1,
      "metadata": {
        "colab": {
          "base_uri": "https://localhost:8080/"
        },
        "id": "6zzgSvSkHKhf",
        "outputId": "103a0b98-5dd9-46e1-f0e5-0748500932af"
      },
      "outputs": [
        {
          "output_type": "stream",
          "name": "stdout",
          "text": [
            "Enter the first number: 15\n",
            "Enter the second number: 5\n",
            "Sum: 20.0\n",
            "Difference: 10.0\n",
            "Product: 75.0\n",
            "Division: 3.0\n"
          ]
        }
      ],
      "source": [
        "# # Take two numbers from the user\n",
        "num1 = float(input(\"Enter the first number: \"))\n",
        "num2 = float(input(\"Enter the second number: \"))\n",
        "\n",
        "# Perform arithmetic operations\n",
        "sum_result = num1 + num2\n",
        "difference_result = num1 - num2\n",
        "product_result = num1 * num2\n",
        "division_result = num1 / num2\n",
        "\n",
        "\n",
        "# Print the results of arithmetic operations\n",
        "print(\"Sum:\", sum_result)\n",
        "print(\"Difference:\", difference_result)\n",
        "print(\"Product:\", product_result)\n",
        "print(\"Division:\", division_result)\n"
      ]
    }
  ]
}